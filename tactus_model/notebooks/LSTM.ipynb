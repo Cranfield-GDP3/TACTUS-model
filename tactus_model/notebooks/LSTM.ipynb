{
  "nbformat": 4,
  "nbformat_minor": 0,
  "metadata": {
    "colab": {
      "provenance": []
    },
    "kernelspec": {
      "name": "python3",
      "display_name": "Python 3"
    },
    "language_info": {
      "name": "python"
    }
  },
  "cells": [
    {
      "cell_type": "markdown",
      "source": [
        "Implementation of LSTM for TACTUS\n",
        "1. Joint angles included\n",
        "2. Neutral Class included\n",
        "3. No PCA"
      ],
      "metadata": {
        "id": "c2enl9uwsqa_"
      }
    },
    {
      "cell_type": "code",
      "execution_count": 189,
      "metadata": {
        "colab": {
          "base_uri": "https://localhost:8080/",
          "height": 17
        },
        "id": "imbMoPLxQ101",
        "outputId": "10810460-c1a0-4abd-e9d3-352fbd404555"
      },
      "outputs": [
        {
          "output_type": "display_data",
          "data": {
            "text/html": [
              "        <script type=\"text/javascript\">\n",
              "        window.PlotlyConfig = {MathJaxConfig: 'local'};\n",
              "        if (window.MathJax && window.MathJax.Hub && window.MathJax.Hub.Config) {window.MathJax.Hub.Config({SVG: {font: \"STIX-Web\"}});}\n",
              "        if (typeof require !== 'undefined') {\n",
              "        require.undef(\"plotly\");\n",
              "        requirejs.config({\n",
              "            paths: {\n",
              "                'plotly': ['https://cdn.plot.ly/plotly-2.18.2.min']\n",
              "            }\n",
              "        });\n",
              "        require(['plotly'], function(Plotly) {\n",
              "            window._Plotly = Plotly;\n",
              "        });\n",
              "        }\n",
              "        </script>\n",
              "        "
            ]
          },
          "metadata": {}
        }
      ],
      "source": [
        "import pandas as pd\n",
        "import numpy as np\n",
        "from sklearn.model_selection import train_test_split, GridSearchCV\n",
        "from sklearn import metrics\n",
        "from sklearn import linear_model\n",
        "import matplotlib.pyplot as plt\n",
        "import seaborn as sns\n",
        "import plotly.express as px\n",
        "import plotly.graph_objects as go\n",
        "from plotly.subplots import make_subplots\n",
        "\n",
        "import plotly.offline as py #visualization\n",
        "py.init_notebook_mode(connected=True) #visualization\n",
        "import plotly.graph_objs as go #visualization\n",
        "import plotly.tools as tls #visualization\n",
        "import plotly.figure_factory as ff\n",
        "import numpy as np\n",
        "import matplotlib\n",
        "import matplotlib.pyplot as plt\n",
        "import tensorflow as tf  \n",
        "from sklearn import metrics\n",
        "import random\n",
        "from random import randint\n",
        "import time\n",
        "import os\n",
        "from scipy import stats\n",
        "\n"
      ]
    },
    {
      "cell_type": "code",
      "source": [
        "from sklearn.ensemble import RandomForestClassifier, AdaBoostClassifier, GradientBoostingClassifier\n",
        "from sklearn.linear_model import LogisticRegression\n",
        "from sklearn.neighbors import KNeighborsClassifier\n",
        "from sklearn.model_selection import train_test_split\n",
        "from sklearn.metrics import roc_auc_score, roc_curve\n",
        "import pandas as pd\n",
        "import numpy as np\n",
        "from sklearn.model_selection import train_test_split\n",
        "from sklearn.preprocessing import StandardScaler, RobustScaler\n",
        "from sklearn.metrics import confusion_matrix\n",
        "import matplotlib.pyplot as plt\n",
        "import seaborn as sns\n"
      ],
      "metadata": {
        "id": "98GvBJTAU-nv"
      },
      "execution_count": 190,
      "outputs": []
    },
    {
      "cell_type": "code",
      "source": [
        "features_data = pd.read_csv(\"/content/drive/MyDrive/Colab Notebooks/GDP3/initial_implementation/Action_recognition/data_proc/features_X_434N.csv\")\n",
        "features_labels = pd.read_csv(\"/content/drive/MyDrive/Colab Notebooks/GDP3/initial_implementation/Action_recognition/data_proc/features_Y_434N.csv\")"
      ],
      "metadata": {
        "id": "6lCOshVxU_KD"
      },
      "execution_count": 191,
      "outputs": []
    },
    {
      "cell_type": "code",
      "source": [
        "features_data.columns = [\"default_\"]\n",
        "features_data_ = features_data[\"default_\"].str.split(\" \", expand=True)\n",
        "\n",
        "features_data_.to_csv(\"features_434X.csv\")\n",
        "\n",
        "features_labels.columns = [\"labels\"]\n",
        "features_labels.to_csv(\"features_434Y.csv\")"
      ],
      "metadata": {
        "id": "vLLXKunRVG1I"
      },
      "execution_count": 192,
      "outputs": []
    },
    {
      "cell_type": "code",
      "source": [
        "data_x = pd.read_csv(\"/content/features_434X.csv\")\n",
        "data_y = pd.read_csv(\"/content/features_434Y.csv\")"
      ],
      "metadata": {
        "id": "qtqYE2BuVLYP"
      },
      "execution_count": 193,
      "outputs": []
    },
    {
      "cell_type": "code",
      "source": [
        "data_x = data_x.drop('Unnamed: 0', axis=1)"
      ],
      "metadata": {
        "id": "QLOppvOLVOH2"
      },
      "execution_count": 194,
      "outputs": []
    },
    {
      "cell_type": "code",
      "source": [
        "y = data_y.labels\n",
        "X = data_x\n",
        "features_labels = X.columns\n",
        "RF = RandomForestClassifier(n_estimators=100, random_state=0, n_jobs=-1)\n",
        "RF.fit(X,y)\n",
        "features_imp = RF.feature_importances_"
      ],
      "metadata": {
        "id": "LtX6_S1nVRMC"
      },
      "execution_count": 196,
      "outputs": []
    },
    {
      "cell_type": "code",
      "source": [
        "indices = np.argsort(features_imp)[::-1]\n",
        "    \n",
        "# Visualization\n",
        "plt.title('Feature Importances')\n",
        "plt.bar(range(X.shape[1]), features_imp[indices], color = \"grey\", align = \"center\")\n",
        "#plt.xticks(range(X.shape[1]), features_labels, rotation = 90)\n",
        "plt.show()"
      ],
      "metadata": {
        "colab": {
          "base_uri": "https://localhost:8080/",
          "height": 468
        },
        "id": "PDZ-0N0lVTqe",
        "outputId": "77fe2e37-79f7-4d69-a67d-2099ec302624"
      },
      "execution_count": 197,
      "outputs": [
        {
          "output_type": "display_data",
          "data": {
            "text/plain": [
              "<Figure size 500x500 with 1 Axes>"
            ],
            "image/png": "[encoded data removed]"
          },
          "metadata": {}
        }
      ]
    },
    {
      "cell_type": "code",
      "source": [
        "X_train, X_test, y_train, y_test = train_test_split(X, y, test_size = 0.25, random_state =42)"
      ],
      "metadata": {
        "id": "QHcKCqftXARa"
      },
      "execution_count": 198,
      "outputs": []
    },
    {
      "cell_type": "code",
      "source": [
        "X[\"labels\"] = y.values\n",
        "label_map = {0: 'kicking', 1: 'punching', 2: 'pushing', 3: 'neutral'}\n",
        "X[\"labels\"] = X[\"labels\"].map(label_map)\n",
        "\n"
      ],
      "metadata": {
        "id": "E4iUoJ4KwqoV"
      },
      "execution_count": 199,
      "outputs": []
    },
    {
      "cell_type": "code",
      "source": [
        "df_train= X_train.copy()\n",
        "df_test = X_test.copy()\n",
        "df_train[\"labels\"] = y_train.values\n",
        "df_test[\"labels\"] = y_test.values"
      ],
      "metadata": {
        "id": "BnjeLvKyCHrS"
      },
      "execution_count": 200,
      "outputs": []
    },
    {
      "cell_type": "code",
      "source": [
        "print(df_train.shape, df_test.shape)\n",
        "\n",
        "print(X_train.shape, X_test.shape)"
      ],
      "metadata": {
        "colab": {
          "base_uri": "https://localhost:8080/"
        },
        "id": "Qch4Cq0FoXct",
        "outputId": "05f0ed5b-058f-49fb-fdc0-33f645e2a97b"
      },
      "execution_count": 201,
      "outputs": [
        {
          "output_type": "stream",
          "name": "stdout",
          "text": [
            "(984, 435) (329, 435)\n",
            "(984, 434) (329, 434)\n"
          ]
        }
      ]
    },
    {
      "cell_type": "code",
      "source": [
        "\n",
        "scale_columns = X.columns.values[:-1]\n",
        "\n",
        "scaler = RobustScaler()\n",
        "\n",
        "scaler = scaler.fit(df_train[scale_columns])\n",
        "\n",
        "df_train.loc[:, scale_columns] = scaler.transform(df_train[scale_columns].to_numpy())\n",
        "\n",
        "df_test.loc[:, scale_columns] = scaler.transform(df_test[scale_columns].to_numpy())"
      ],
      "metadata": {
        "colab": {
          "base_uri": "https://localhost:8080/"
        },
        "id": "vo6yfEtomGgj",
        "outputId": "0ecf12d5-5529-4eb3-d7cc-178d84e819de"
      },
      "execution_count": 202,
      "outputs": [
        {
          "output_type": "stream",
          "name": "stderr",
          "text": [
            "/usr/local/lib/python3.9/dist-packages/sklearn/base.py:439: UserWarning:\n",
            "\n",
            "X does not have valid feature names, but RobustScaler was fitted with feature names\n",
            "\n",
            "/usr/local/lib/python3.9/dist-packages/sklearn/base.py:439: UserWarning:\n",
            "\n",
            "X does not have valid feature names, but RobustScaler was fitted with feature names\n",
            "\n"
          ]
        }
      ]
    },
    {
      "cell_type": "code",
      "source": [
        "def create_dataset(X, y, time_steps=1, step=1):\n",
        "    Xs, ys = [], []\n",
        "    for i in range(0, len(X) - time_steps, step):\n",
        "        v = X.iloc[i:(i + time_steps)].values\n",
        "        labels = y.iloc[i: i + time_steps]\n",
        "        Xs.append(v)\n",
        "        ys.append(stats.mode(labels)[0][0])\n",
        "    return np.array(Xs), np.array(ys).reshape(-1, 1)\n",
        "    "
      ],
      "metadata": {
        "id": "1a2dPuhPlTkm"
      },
      "execution_count": 203,
      "outputs": []
    },
    {
      "cell_type": "code",
      "source": [
        "X.shape"
      ],
      "metadata": {
        "colab": {
          "base_uri": "https://localhost:8080/"
        },
        "id": "VcZqEU8GZqeh",
        "outputId": "9fe0047b-d516-41bc-ce71-5a849cf1d18b"
      },
      "execution_count": 206,
      "outputs": [
        {
          "output_type": "execute_result",
          "data": {
            "text/plain": [
              "(1313, 435)"
            ]
          },
          "metadata": {},
          "execution_count": 206
        }
      ]
    },
    {
      "cell_type": "code",
      "source": [
        "TIME_STEPS = 3\n",
        "STEP = 2\n",
        "X_train, y_train = create_dataset(\n",
        "    df_train[X.columns.values[:-1]],\n",
        "    df_train.labels,\n",
        "    TIME_STEPS,\n",
        "    STEP\n",
        ")\n",
        "\n",
        "X_test, y_test = create_dataset(\n",
        "    df_test[X.columns.values[:-1]],\n",
        "    df_test.labels,\n",
        "    TIME_STEPS,\n",
        "    STEP\n",
        ")"
      ],
      "metadata": {
        "colab": {
          "base_uri": "https://localhost:8080/"
        },
        "id": "77dmjRnyku-I",
        "outputId": "254c5711-35d2-44ba-c292-0e7279a0d610"
      },
      "execution_count": 207,
      "outputs": [
        {
          "output_type": "stream",
          "name": "stderr",
          "text": [
            "<ipython-input-203-3b9516ad6f1d>:7: FutureWarning:\n",
            "\n",
            "Unlike other reduction functions (e.g. `skew`, `kurtosis`), the default behavior of `mode` typically preserves the axis it acts along. In SciPy 1.11.0, this behavior will change: the default value of `keepdims` will become False, the `axis` over which the statistic is taken will be eliminated, and the value None will no longer be accepted. Set `keepdims` to True or False to avoid this warning.\n",
            "\n",
            "<ipython-input-203-3b9516ad6f1d>:7: FutureWarning:\n",
            "\n",
            "Unlike other reduction functions (e.g. `skew`, `kurtosis`), the default behavior of `mode` typically preserves the axis it acts along. In SciPy 1.11.0, this behavior will change: the default value of `keepdims` will become False, the `axis` over which the statistic is taken will be eliminated, and the value None will no longer be accepted. Set `keepdims` to True or False to avoid this warning.\n",
            "\n"
          ]
        }
      ]
    },
    {
      "cell_type": "markdown",
      "source": [
        "In time series analysis and sequence modeling, time steps refer to the number of time units between each observation or data point. In this context, the TIME_STEPS parameter defines how many time steps the LSTM model should look back to make a prediction."
      ],
      "metadata": {
        "id": "2Yko_cuknh3C"
      }
    },
    {
      "cell_type": "markdown",
      "source": [
        "1. TIME_STEPS is set to 3, the LSTM model will consider the previous 3 time steps of the time series data to make a prediction for the next time step.\n",
        "\n",
        "2. By setting STEP to 2, we are specifying that the model should use every 2nd data point to create a new sequence. This is done to reduce the overlap between the sequences and prevent overfitting."
      ],
      "metadata": {
        "id": "skQ7gDD1nYsy"
      }
    },
    {
      "cell_type": "code",
      "source": [
        "print(X_train.shape, y_train.shape)"
      ],
      "metadata": {
        "colab": {
          "base_uri": "https://localhost:8080/"
        },
        "id": "ye-YdQ2fku7X",
        "outputId": "db8df936-209b-4596-bd76-cf2385031b9f"
      },
      "execution_count": 208,
      "outputs": [
        {
          "output_type": "stream",
          "name": "stdout",
          "text": [
            "(491, 3, 434) (491, 1)\n"
          ]
        }
      ]
    },
    {
      "cell_type": "markdown",
      "source": [
        "1. The input shape is (984, 435), with 984 rows and 435 columns.\n",
        "2. We set time_steps to 3, which means each sample will consist of 3 timesteps.\n",
        "3. We set step to 2, which means we will skip every 2 timesteps when creating the next sample. This results in a 66% overlap between consecutive samples.\n",
        "4. To determine the number of samples we can create from the input data, we first subtract the time_steps from the total number of rows, and then divide by the step. This gives us ((984 - 3) / 2)+1 = 491 samples.\n",
        "5. Each sample has time_steps of 3 and 435 columns, resulting in a shape of (3, 435).\n",
        "6. We stack these samples together to create a 3D tensor of shape (491, 3, 435)."
      ],
      "metadata": {
        "id": "2u04UsrWpSXn"
      }
    },
    {
      "cell_type": "code",
      "source": [
        "from sklearn.preprocessing import OneHotEncoder\n",
        "enc = OneHotEncoder(handle_unknown='ignore', sparse=False)\n",
        "\n",
        "enc = enc.fit(y_train)\n",
        "\n",
        "y_train = enc.transform(y_train)\n",
        "y_test = enc.transform(y_test)"
      ],
      "metadata": {
        "colab": {
          "base_uri": "https://localhost:8080/"
        },
        "id": "XSfF7LKVk0gz",
        "outputId": "a61a8fe2-d692-4b1b-a878-de7d83a6cb4d"
      },
      "execution_count": 209,
      "outputs": [
        {
          "output_type": "stream",
          "name": "stderr",
          "text": [
            "/usr/local/lib/python3.9/dist-packages/sklearn/preprocessing/_encoders.py:868: FutureWarning:\n",
            "\n",
            "`sparse` was renamed to `sparse_output` in version 1.2 and will be removed in 1.4. `sparse_output` is ignored unless you leave `sparse` to its default value.\n",
            "\n"
          ]
        }
      ]
    },
    {
      "cell_type": "code",
      "source": [
        "import keras\n",
        "model = keras.Sequential()\n",
        "model.add(\n",
        "    keras.layers.Bidirectional(\n",
        "      keras.layers.LSTM(\n",
        "          units=128,\n",
        "          input_shape=[X_train.shape[1], X_train.shape[2]]\n",
        "      )\n",
        "    )\n",
        ")\n",
        "model.add(keras.layers.Dropout(rate=0.5))\n",
        "model.add(keras.layers.Dense(units=128, activation='relu'))\n",
        "model.add(keras.layers.Dense(y_train.shape[1], activation='softmax'))\n",
        "\n",
        "model.compile(\n",
        "  loss='categorical_crossentropy',\n",
        "  optimizer='adam',\n",
        "  metrics=['acc']\n",
        ")"
      ],
      "metadata": {
        "id": "ElF4VfCjh5ol"
      },
      "execution_count": 211,
      "outputs": []
    },
    {
      "cell_type": "code",
      "source": [
        "history = model.fit(\n",
        "    X_train, y_train,\n",
        "    epochs=20,\n",
        "    batch_size=32,\n",
        "    validation_split=0.1,\n",
        "    shuffle=False\n",
        ")"
      ],
      "metadata": {
        "colab": {
          "base_uri": "https://localhost:8080/"
        },
        "id": "16ZKsFIsh5lv",
        "outputId": "41d65d39-89a7-4a0d-e38b-fa614ad2c77b"
      },
      "execution_count": 212,
      "outputs": [
        {
          "output_type": "stream",
          "name": "stdout",
          "text": [
            "Epoch 1/20\n",
            "14/14 [==============================] - 6s 105ms/step - loss: 1.2363 - acc: 0.4762 - val_loss: 0.7718 - val_acc: 0.8600\n",
            "Epoch 2/20\n",
            "14/14 [==============================] - 0s 25ms/step - loss: 0.5775 - acc: 0.8163 - val_loss: 0.4956 - val_acc: 0.8400\n",
            "Epoch 3/20\n",
            "14/14 [==============================] - 0s 28ms/step - loss: 0.3294 - acc: 0.8889 - val_loss: 0.4112 - val_acc: 0.8800\n",
            "Epoch 4/20\n",
            "14/14 [==============================] - 0s 26ms/step - loss: 0.1966 - acc: 0.9501 - val_loss: 0.3624 - val_acc: 0.8600\n",
            "Epoch 5/20\n",
            "14/14 [==============================] - 0s 27ms/step - loss: 0.1066 - acc: 0.9841 - val_loss: 0.3584 - val_acc: 0.8400\n",
            "Epoch 6/20\n",
            "14/14 [==============================] - 0s 27ms/step - loss: 0.0770 - acc: 0.9909 - val_loss: 0.3529 - val_acc: 0.8400\n",
            "Epoch 7/20\n",
            "14/14 [==============================] - 0s 26ms/step - loss: 0.0493 - acc: 0.9955 - val_loss: 0.3411 - val_acc: 0.8600\n",
            "Epoch 8/20\n",
            "14/14 [==============================] - 0s 28ms/step - loss: 0.0290 - acc: 1.0000 - val_loss: 0.3667 - val_acc: 0.8400\n",
            "Epoch 9/20\n",
            "14/14 [==============================] - 0s 25ms/step - loss: 0.0198 - acc: 1.0000 - val_loss: 0.3772 - val_acc: 0.8400\n",
            "Epoch 10/20\n",
            "14/14 [==============================] - 1s 46ms/step - loss: 0.0137 - acc: 1.0000 - val_loss: 0.3591 - val_acc: 0.8400\n",
            "Epoch 11/20\n",
            "14/14 [==============================] - 1s 42ms/step - loss: 0.0086 - acc: 1.0000 - val_loss: 0.3540 - val_acc: 0.8200\n",
            "Epoch 12/20\n",
            "14/14 [==============================] - 1s 42ms/step - loss: 0.0072 - acc: 1.0000 - val_loss: 0.3490 - val_acc: 0.8200\n",
            "Epoch 13/20\n",
            "14/14 [==============================] - 1s 44ms/step - loss: 0.0050 - acc: 1.0000 - val_loss: 0.3572 - val_acc: 0.8200\n",
            "Epoch 14/20\n",
            "14/14 [==============================] - 1s 48ms/step - loss: 0.0053 - acc: 1.0000 - val_loss: 0.3606 - val_acc: 0.8400\n",
            "Epoch 15/20\n",
            "14/14 [==============================] - 1s 43ms/step - loss: 0.0053 - acc: 1.0000 - val_loss: 0.3794 - val_acc: 0.8600\n",
            "Epoch 16/20\n",
            "14/14 [==============================] - 1s 44ms/step - loss: 0.0046 - acc: 1.0000 - val_loss: 0.3730 - val_acc: 0.8600\n",
            "Epoch 17/20\n",
            "14/14 [==============================] - 1s 39ms/step - loss: 0.0035 - acc: 1.0000 - val_loss: 0.3626 - val_acc: 0.8600\n",
            "Epoch 18/20\n",
            "14/14 [==============================] - 0s 26ms/step - loss: 0.0028 - acc: 1.0000 - val_loss: 0.3632 - val_acc: 0.8600\n",
            "Epoch 19/20\n",
            "14/14 [==============================] - 0s 28ms/step - loss: 0.0032 - acc: 1.0000 - val_loss: 0.3882 - val_acc: 0.8600\n",
            "Epoch 20/20\n",
            "14/14 [==============================] - 0s 27ms/step - loss: 0.0024 - acc: 1.0000 - val_loss: 0.4241 - val_acc: 0.8600\n"
          ]
        }
      ]
    },
    {
      "cell_type": "code",
      "source": [
        "model.evaluate(X_test, y_test)"
      ],
      "metadata": {
        "colab": {
          "base_uri": "https://localhost:8080/"
        },
        "id": "lZOU2AUfh5jK",
        "outputId": "cd244af8-1a6d-41b9-d2c6-d75bc5ad41ca"
      },
      "execution_count": 166,
      "outputs": [
        {
          "output_type": "stream",
          "name": "stdout",
          "text": [
            "6/6 [==============================] - 0s 15ms/step - loss: 0.4378 - acc: 0.8773\n"
          ]
        },
        {
          "output_type": "execute_result",
          "data": {
            "text/plain": [
              "[0.4377971589565277, 0.8773006200790405]"
            ]
          },
          "metadata": {},
          "execution_count": 166
        }
      ]
    },
    {
      "cell_type": "markdown",
      "source": [
        "Model overfits\n",
        "Or LSTM model is too complicated for this type of data\n",
        "a simple model like SVM or MLP will also do the job!"
      ],
      "metadata": {
        "id": "4585KVdzqtXq"
      }
    },
    {
      "cell_type": "code",
      "source": [
        "y_pred = model.predict(X_test)"
      ],
      "metadata": {
        "colab": {
          "base_uri": "https://localhost:8080/"
        },
        "id": "0hmgJ7sYh5gQ",
        "outputId": "31445a30-2b69-4cdc-8573-a5eed88b3d1e"
      },
      "execution_count": 213,
      "outputs": [
        {
          "output_type": "stream",
          "name": "stdout",
          "text": [
            "6/6 [==============================] - 1s 15ms/step\n"
          ]
        }
      ]
    },
    {
      "cell_type": "code",
      "source": [
        "# plot train-test accuracy\n",
        "plt.plot(history.history['acc'], label='train')\n",
        "plt.plot(history.history['val_acc'], label='test')\n",
        "plt.title('Model accuracy')\n",
        "plt.ylabel('Accuracy')\n",
        "plt.xlabel('Epoch')\n",
        "plt.legend()\n",
        "plt.show()\n",
        "\n",
        "# plot train-test loss\n",
        "plt.plot(history.history['loss'], label='train')\n",
        "plt.plot(history.history['val_loss'], label='test')\n",
        "plt.title('Model loss')\n",
        "plt.ylabel('Loss')\n",
        "plt.xlabel('Epoch')\n",
        "plt.legend()\n",
        "plt.show()\n",
        "\n"
      ],
      "metadata": {
        "colab": {
          "base_uri": "https://localhost:8080/",
          "height": 957
        },
        "id": "It1UCIt9h5dk",
        "outputId": "f9e03930-ecbe-4793-a1a8-a7b2866d9694"
      },
      "execution_count": 214,
      "outputs": [
        {
          "output_type": "display_data",
          "data": {
            "text/plain": [
              "<Figure size 500x500 with 1 Axes>"
            ],
            "image/png": "[encoded data removed]"
          },
          "metadata": {}
        },
        {
          "output_type": "display_data",
          "data": {
            "text/plain": [
              "<Figure size 500x500 with 1 Axes>"
            ],
            "image/png": "[encoded data removed]"
          },
          "metadata": {}
        }
      ]
    },
    {
      "cell_type": "code",
      "source": [
        "y_predicted = np.argmax(y_pred, axis=1)\n"
      ],
      "metadata": {
        "id": "OeZTC7Fyun7D"
      },
      "execution_count": 215,
      "outputs": []
    },
    {
      "cell_type": "code",
      "source": [
        "y_true = np.argmax(y_test, axis=1)\n"
      ],
      "metadata": {
        "id": "reKUBtOXus68"
      },
      "execution_count": 216,
      "outputs": []
    },
    {
      "cell_type": "code",
      "source": [
        "import numpy as np\n",
        "import matplotlib.pyplot as plt\n",
        "\n",
        "from sklearn import svm, datasets\n",
        "from sklearn.model_selection import train_test_split\n",
        "from sklearn.metrics import ConfusionMatrixDisplay\n",
        "\n",
        "from sklearn import metrics\n",
        "classes=[\"kicking\",\"punching\",\"pushing\",\"neutral\"]\n",
        "plt.rcParams[\"figure.figsize\"] = (5,5)\n",
        "confusion_matrix = metrics.confusion_matrix(y_true, y_predicted)\n",
        "cm_display = metrics.ConfusionMatrixDisplay(confusion_matrix = confusion_matrix, display_labels = classes)\n",
        "cm_display.plot()\n",
        "plt.show()"
      ],
      "metadata": {
        "id": "AyikH7CEtBil",
        "colab": {
          "base_uri": "https://localhost:8080/",
          "height": 430
        },
        "outputId": "4c3262e9-1a62-4c8e-aa74-87ebf8f49a6f"
      },
      "execution_count": 217,
      "outputs": [
        {
          "output_type": "display_data",
          "data": {
            "text/plain": [
              "<Figure size 500x500 with 2 Axes>"
            ],
            "image/png": "[encoded data removed]"
          },
          "metadata": {}
        }
      ]
    }
  ]
}